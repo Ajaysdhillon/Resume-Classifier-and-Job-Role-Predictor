{
 "cells": [
  {
   "cell_type": "code",
   "execution_count": 2,
   "id": "80367184-4251-465b-8428-694c0bdfab5f",
   "metadata": {},
   "outputs": [
    {
     "name": "stdout",
     "output_type": "stream",
     "text": [
      "Predicted Job Role: INFORMATION-TECHNOLOGY\n"
     ]
    }
   ],
   "source": [
    "import fitz  # PyMuPDF\n",
    "import joblib\n",
    "import pandas as pd\n",
    "\n",
    "# Load saved model and vectorizer\n",
    "best_svm = joblib.load(\"svm_model.pkl\")\n",
    "vectorizer = joblib.load(\"tfidf_vectorizer.pkl\")\n",
    "\n",
    "# Extract text from a PDF file\n",
    "def extract_text_from_pdf(pdf_path):\n",
    "    try:\n",
    "        doc = fitz.open(pdf_path)\n",
    "        return \" \".join([page.get_text(\"text\") for page in doc]).strip()\n",
    "    except Exception as e:\n",
    "        print(f\"Error extracting text: {e}\")\n",
    "        return \"\"\n",
    "\n",
    "# Predict job role\n",
    "def predict_job_role(pdf_path):\n",
    "    resume_text = extract_text_from_pdf(pdf_path)\n",
    "    if not resume_text:\n",
    "        return \"Error: Could not extract text.\"\n",
    "\n",
    "    resume_vector = vectorizer.transform([resume_text])\n",
    "    resume_vector_df = pd.DataFrame(resume_vector.toarray(), columns=vectorizer.get_feature_names_out())\n",
    "\n",
    "    # Ensure feature consistency\n",
    "    missing_cols = set(vectorizer.get_feature_names_out()) - set(resume_vector_df.columns)\n",
    "    for col in missing_cols:\n",
    "        resume_vector_df[col] = 0\n",
    "    resume_vector_df = resume_vector_df[vectorizer.get_feature_names_out()]\n",
    "\n",
    "    return best_svm.predict(resume_vector_df)[0]\n",
    "\n",
    "# Example usage\n",
    "if __name__ == \"__main__\":\n",
    "    pdf_path = \"Resume-test.pdf\"\n",
    "    predicted_job = predict_job_role(pdf_path)\n",
    "    print(f\"Predicted Job Role: {predicted_job}\")\n"
   ]
  },
  {
   "cell_type": "code",
   "execution_count": null,
   "id": "f48e2cd2-6524-4315-9635-402ee6c25883",
   "metadata": {},
   "outputs": [],
   "source": []
  }
 ],
 "metadata": {
  "kernelspec": {
   "display_name": "Python 3 (ipykernel)",
   "language": "python",
   "name": "python3"
  },
  "language_info": {
   "codemirror_mode": {
    "name": "ipython",
    "version": 3
   },
   "file_extension": ".py",
   "mimetype": "text/x-python",
   "name": "python",
   "nbconvert_exporter": "python",
   "pygments_lexer": "ipython3",
   "version": "3.12.0"
  }
 },
 "nbformat": 4,
 "nbformat_minor": 5
}
